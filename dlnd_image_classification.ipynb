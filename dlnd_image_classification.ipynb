{
 "cells": [
  {
   "cell_type": "markdown",
   "metadata": {
    "collapsed": true
   },
   "source": [
    "# Image Classification\n",
    "In this project, you'll classify images from the [CIFAR-10 dataset](https://www.cs.toronto.edu/~kriz/cifar.html).  The dataset consists of airplanes, dogs, cats, and other objects. You'll preprocess the images, then train a convolutional neural network on all the samples. The images need to be normalized and the labels need to be one-hot encoded.  You'll get to apply what you learned and build a convolutional, max pooling, dropout, and fully connected layers.  At the end, you'll get to see your neural network's predictions on the sample images.\n",
    "## Get the Data\n",
    "Run the following cell to download the [CIFAR-10 dataset for python](https://www.cs.toronto.edu/~kriz/cifar-10-python.tar.gz)."
   ]
  },
  {
   "cell_type": "code",
   "execution_count": 1,
   "metadata": {
    "collapsed": false
   },
   "outputs": [
    {
     "name": "stdout",
     "output_type": "stream",
     "text": [
      "All files found!\n"
     ]
    }
   ],
   "source": [
    "\"\"\"\n",
    "DON'T MODIFY ANYTHING IN THIS CELL THAT IS BELOW THIS LINE\n",
    "\"\"\"\n",
    "from urllib.request import urlretrieve\n",
    "from os.path import isfile, isdir\n",
    "from tqdm import tqdm\n",
    "import problem_unittests as tests\n",
    "import tarfile\n",
    "\n",
    "cifar10_dataset_folder_path = 'cifar-10-batches-py'\n",
    "\n",
    "class DLProgress(tqdm):\n",
    "    last_block = 0\n",
    "\n",
    "    def hook(self, block_num=1, block_size=1, total_size=None):\n",
    "        self.total = total_size\n",
    "        self.update((block_num - self.last_block) * block_size)\n",
    "        self.last_block = block_num\n",
    "\n",
    "if not isfile('cifar-10-python.tar.gz'):\n",
    "    with DLProgress(unit='B', unit_scale=True, miniters=1, desc='CIFAR-10 Dataset') as pbar:\n",
    "        urlretrieve(\n",
    "            'https://www.cs.toronto.edu/~kriz/cifar-10-python.tar.gz',\n",
    "            'cifar-10-python.tar.gz',\n",
    "            pbar.hook)\n",
    "\n",
    "if not isdir(cifar10_dataset_folder_path):\n",
    "    with tarfile.open('cifar-10-python.tar.gz') as tar:\n",
    "        tar.extractall()\n",
    "        tar.close()\n",
    "\n",
    "\n",
    "tests.test_folder_path(cifar10_dataset_folder_path)"
   ]
  },
  {
   "cell_type": "markdown",
   "metadata": {},
   "source": [
    "## Explore the Data\n",
    "The dataset is broken into batches to prevent your machine from running out of memory.  The CIFAR-10 dataset consists of 5 batches, named `data_batch_1`, `data_batch_2`, etc.. Each batch contains the labels and images that are one of the following:\n",
    "* airplane\n",
    "* automobile\n",
    "* bird\n",
    "* cat\n",
    "* deer\n",
    "* dog\n",
    "* frog\n",
    "* horse\n",
    "* ship\n",
    "* truck\n",
    "\n",
    "Understanding a dataset is part of making predictions on the data.  Play around with the code cell below by changing the `batch_id` and `sample_id`. The `batch_id` is the id for a batch (1-5). The `sample_id` is the id for a image and label pair in the batch.\n",
    "\n",
    "Ask yourself \"What are all possible labels?\", \"What is the range of values for the image data?\", \"Are the labels in order or random?\".  Answers to questions like these will help you preprocess the data and end up with better predictions."
   ]
  },
  {
   "cell_type": "code",
   "execution_count": 2,
   "metadata": {
    "collapsed": false
   },
   "outputs": [
    {
     "name": "stdout",
     "output_type": "stream",
     "text": [
      "\n",
      "Stats of batch 2:\n",
      "Samples: 10000\n",
      "Label Counts: {0: 984, 1: 1007, 2: 1010, 3: 995, 4: 1010, 5: 988, 6: 1008, 7: 1026, 8: 987, 9: 985}\n",
      "First 20 Labels: [1, 6, 6, 8, 8, 3, 4, 6, 0, 6, 0, 3, 6, 6, 5, 4, 8, 3, 2, 6]\n",
      "\n",
      "Example of Image 10:\n",
      "Image - Min Value: 4 Max Value: 231\n",
      "Image - Shape: (32, 32, 3)\n",
      "Label - Label Id: 0 Name: airplane\n"
     ]
    },
    {
     "data": {
      "image/png": "[encoded data removed]",
      "text/plain": [
       "<matplotlib.figure.Figure at 0x7fb579afdeb8>"
      ]
     },
     "metadata": {
      "image/png": {
       "height": 250,
       "width": 253
      }
     },
     "output_type": "display_data"
    }
   ],
   "source": [
    "%matplotlib inline\n",
    "%config InlineBackend.figure_format = 'retina'\n",
    "\n",
    "import helper\n",
    "import numpy as np\n",
    "\n",
    "# Explore the dataset\n",
    "batch_id = 2\n",
    "sample_id = 10\n",
    "helper.display_stats(cifar10_dataset_folder_path, batch_id, sample_id)"
   ]
  },
  {
   "cell_type": "markdown",
   "metadata": {},
   "source": [
    "## Implement Preprocess Functions\n",
    "### Normalize\n",
    "In the cell below, implement the `normalize` function to take in image data, `x`, and return it as a normalized Numpy array. The values should be in the range of 0 to 1, inclusive.  The return object should be the same shape as `x`."
   ]
  },
  {
   "cell_type": "code",
   "execution_count": 3,
   "metadata": {
    "collapsed": false
   },
   "outputs": [
    {
     "name": "stdout",
     "output_type": "stream",
     "text": [
      "Tests Passed\n"
     ]
    }
   ],
   "source": [
    "def normalize(x):\n",
    "    \"\"\"\n",
    "    Normalize a list of sample image data in the range of 0 to 1\n",
    "    : x: List of image data.  The image shape is (32, 32, 3)\n",
    "    : return: Numpy array of normalize data\n",
    "    \"\"\"\n",
    "    result = np.zeros(x.shape, dtype=np.float32)\n",
    "    iidx = 0\n",
    "    # TODO: Implement Function\n",
    "    for image in x:\n",
    "        #first find the biggest element\n",
    "        for x in range(32):\n",
    "            for y in range(32):\n",
    "                for c in range(3):\n",
    "                    result[iidx,x,y,c] = image[x,y,c] / 255\n",
    "        iidx += 1\n",
    "                \n",
    "    return result\n",
    "\n",
    "\n",
    "\"\"\"\n",
    "DON'T MODIFY ANYTHING IN THIS CELL THAT IS BELOW THIS LINE\n",
    "\"\"\"\n",
    "tests.test_normalize(normalize)"
   ]
  },
  {
   "cell_type": "markdown",
   "metadata": {},
   "source": [
    "### One-hot encode\n",
    "Just like the previous code cell, you'll be implementing a function for preprocessing.  This time, you'll implement the `one_hot_encode` function. The input, `x`, are a list of labels.  Implement the function to return the list of labels as One-Hot encoded Numpy array.  The possible values for labels are 0 to 9. The one-hot encoding function should return the same encoding for each value between each call to `one_hot_encode`.  Make sure to save the map of encodings outside the function.\n",
    "\n",
    "Hint: Don't reinvent the wheel."
   ]
  },
  {
   "cell_type": "code",
   "execution_count": null,
   "metadata": {
    "collapsed": false
   },
   "outputs": [],
   "source": [
    "def one_hot_encode(x):\n",
    "    \"\"\"\n",
    "    One hot encode a list of sample labels. Return a one-hot encoded vector for each label.\n",
    "    : x: List of sample Labels\n",
    "    : return: Numpy array of one-hot encoded labels\n",
    "    \"\"\"\n",
    "    result = np.zeros((len(x),10), dtype=np.float32)\n",
    "    # TODO: Implement Function\n",
    "    for idx in range(len(x)):\n",
    "        result[idx, x[idx]] = 1.0\n",
    "    return result\n",
    "\n",
    "\n",
    "\"\"\"\n",
    "DON'T MODIFY ANYTHING IN THIS CELL THAT IS BELOW THIS LINE\n",
    "\"\"\"\n",
    "tests.test_one_hot_encode(one_hot_encode)"
   ]
  },
  {
   "cell_type": "markdown",
   "metadata": {},
   "source": [
    "### Randomize Data\n",
    "As you saw from exploring the data above, the order of the samples are randomized.  It doesn't hurt to randomize it again, but you don't need to for this dataset."
   ]
  },
  {
   "cell_type": "markdown",
   "metadata": {},
   "source": [
    "## Preprocess all the data and save it\n",
    "Running the code cell below will preprocess all the CIFAR-10 data and save it to file. The code below also uses 10% of the training data for validation."
   ]
  },
  {
   "cell_type": "code",
   "execution_count": null,
   "metadata": {
    "collapsed": false
   },
   "outputs": [],
   "source": [
    "\"\"\"\n",
    "DON'T MODIFY ANYTHING IN THIS CELL\n",
    "\"\"\"\n",
    "# Preprocess Training, Validation, and Testing Data\n",
    "helper.preprocess_and_save_data(cifar10_dataset_folder_path, normalize, one_hot_encode)"
   ]
  },
  {
   "cell_type": "markdown",
   "metadata": {},
   "source": [
    "# Check Point\n",
    "This is your first checkpoint.  If you ever decide to come back to this notebook or have to restart the notebook, you can start from here.  The preprocessed data has been saved to disk."
   ]
  },
  {
   "cell_type": "code",
   "execution_count": 1,
   "metadata": {
    "collapsed": true
   },
   "outputs": [],
   "source": [
    "\"\"\"\n",
    "DON'T MODIFY ANYTHING IN THIS CELL\n",
    "\"\"\"\n",
    "import pickle\n",
    "import problem_unittests as tests\n",
    "import helper\n",
    "\n",
    "# Load the Preprocessed Validation data\n",
    "valid_features, valid_labels = pickle.load(open('preprocess_validation.p', mode='rb'))"
   ]
  },
  {
   "cell_type": "markdown",
   "metadata": {},
   "source": [
    "## Build the network\n",
    "For the neural network, you'll build each layer into a function.  Most of the code you've seen has been outside of functions. To test your code more thoroughly, we require that you put each layer in a function.  This allows us to give you better feedback and test for simple mistakes using our unittests before you submit your project.\n",
    "\n",
    ">**Note:** If you're finding it hard to dedicate enough time for this course each week, we've provided a small shortcut to this part of the project. In the next couple of problems, you'll have the option to use classes from the [TensorFlow Layers](https://www.tensorflow.org/api_docs/python/tf/layers) or [TensorFlow Layers (contrib)](https://www.tensorflow.org/api_guides/python/contrib.layers) packages to build each layer, except the layers you build in the \"Convolutional and Max Pooling Layer\" section.  TF Layers is similar to Keras's and TFLearn's abstraction to layers, so it's easy to pickup.\n",
    "\n",
    ">However, if you would like to get the most out of this course, try to solve all the problems _without_ using anything from the TF Layers packages. You **can** still use classes from other packages that happen to have the same name as ones you find in TF Layers! For example, instead of using the TF Layers version of the `conv2d` class, [tf.layers.conv2d](https://www.tensorflow.org/api_docs/python/tf/layers/conv2d), you would want to use the TF Neural Network version of `conv2d`, [tf.nn.conv2d](https://www.tensorflow.org/api_docs/python/tf/nn/conv2d). \n",
    "\n",
    "Let's begin!\n",
    "\n",
    "### Input\n",
    "The neural network needs to read the image data, one-hot encoded labels, and dropout keep probability. Implement the following functions\n",
    "* Implement `neural_net_image_input`\n",
    " * Return a [TF Placeholder](https://www.tensorflow.org/api_docs/python/tf/placeholder)\n",
    " * Set the shape using `image_shape` with batch size set to `None`.\n",
    " * Name the TensorFlow placeholder \"x\" using the TensorFlow `name` parameter in the [TF Placeholder](https://www.tensorflow.org/api_docs/python/tf/placeholder).\n",
    "* Implement `neural_net_label_input`\n",
    " * Return a [TF Placeholder](https://www.tensorflow.org/api_docs/python/tf/placeholder)\n",
    " * Set the shape using `n_classes` with batch size set to `None`.\n",
    " * Name the TensorFlow placeholder \"y\" using the TensorFlow `name` parameter in the [TF Placeholder](https://www.tensorflow.org/api_docs/python/tf/placeholder).\n",
    "* Implement `neural_net_keep_prob_input`\n",
    " * Return a [TF Placeholder](https://www.tensorflow.org/api_docs/python/tf/placeholder) for dropout keep probability.\n",
    " * Name the TensorFlow placeholder \"keep_prob\" using the TensorFlow `name` parameter in the [TF Placeholder](https://www.tensorflow.org/api_docs/python/tf/placeholder).\n",
    "\n",
    "These names will be used at the end of the project to load your saved model.\n",
    "\n",
    "Note: `None` for shapes in TensorFlow allow for a dynamic size."
   ]
  },
  {
   "cell_type": "code",
   "execution_count": 2,
   "metadata": {
    "collapsed": false
   },
   "outputs": [
    {
     "name": "stdout",
     "output_type": "stream",
     "text": [
      "Image Input Tests Passed.\n",
      "Label Input Tests Passed.\n",
      "Keep Prob Tests Passed.\n"
     ]
    }
   ],
   "source": [
    "import tensorflow as tf\n",
    "\n",
    "def neural_net_image_input(image_shape):\n",
    "    \"\"\"\n",
    "    Return a Tensor for a bach of image input\n",
    "    : image_shape: Shape of the images\n",
    "    : return: Tensor for image input.\n",
    "    \"\"\"\n",
    "    x = tf.placeholder(tf.float32, shape=[None, image_shape[0], image_shape[1], image_shape[2]], name =\"x\")\n",
    "    return x\n",
    "\n",
    "\n",
    "def neural_net_label_input(n_classes):\n",
    "    \"\"\"\n",
    "    Return a Tensor for a batch of label input\n",
    "    : n_classes: Number of classes\n",
    "    : return: Tensor for label input.\n",
    "    \"\"\"\n",
    "    y = tf.placeholder(tf.float32, shape=[None, n_classes], name=\"y\")\n",
    "    return y\n",
    "\n",
    "\n",
    "def neural_net_keep_prob_input():\n",
    "    \"\"\"\n",
    "    Return a Tensor for keep probability\n",
    "    : return: Tensor for keep probability.\n",
    "    \"\"\"\n",
    "    kp = tf.placeholder(tf.float32, name=\"keep_prob\")\n",
    "    return kp\n",
    "\n",
    "\n",
    "\"\"\"\n",
    "DON'T MODIFY ANYTHING IN THIS CELL THAT IS BELOW THIS LINE\n",
    "\"\"\"\n",
    "tf.reset_default_graph()\n",
    "tests.test_nn_image_inputs(neural_net_image_input)\n",
    "tests.test_nn_label_inputs(neural_net_label_input)\n",
    "tests.test_nn_keep_prob_inputs(neural_net_keep_prob_input)"
   ]
  },
  {
   "cell_type": "markdown",
   "metadata": {},
   "source": [
    "### Convolution and Max Pooling Layer\n",
    "Convolution layers have a lot of success with images. For this code cell, you should implement the function `conv2d_maxpool` to apply convolution then max pooling:\n",
    "* Create the weight and bias using `conv_ksize`, `conv_num_outputs` and the shape of `x_tensor`.\n",
    "* Apply a convolution to `x_tensor` using weight and `conv_strides`.\n",
    " * We recommend you use same padding, but you're welcome to use any padding.\n",
    "* Add bias\n",
    "* Add a nonlinear activation to the convolution.\n",
    "* Apply Max Pooling using `pool_ksize` and `pool_strides`.\n",
    " * We recommend you use same padding, but you're welcome to use any padding.\n",
    "\n",
    "**Note:** You **can't** use [TensorFlow Layers](https://www.tensorflow.org/api_docs/python/tf/layers) or [TensorFlow Layers (contrib)](https://www.tensorflow.org/api_guides/python/contrib.layers) for **this** layer, but you can still use TensorFlow's [Neural Network](https://www.tensorflow.org/api_docs/python/tf/nn) package. You may still use the shortcut option for all the **other** layers."
   ]
  },
  {
   "cell_type": "code",
   "execution_count": 131,
   "metadata": {
    "collapsed": false
   },
   "outputs": [
    {
     "name": "stdout",
     "output_type": "stream",
     "text": [
      "Tests Passed\n"
     ]
    }
   ],
   "source": [
    "def conv2d_maxpool(x_tensor, conv_num_outputs, conv_ksize, conv_strides, pool_ksize, pool_strides):\n",
    "    \"\"\"\n",
    "    Apply convolution then max pooling to x_tensor\n",
    "    :param x_tensor: TensorFlow Tensor\n",
    "    :param conv_num_outputs: Number of outputs for the convolutional layer\n",
    "    :param conv_ksize: kernal size 2-D Tuple for the convolutional layer\n",
    "    :param conv_strides: Stride 2-D Tuple for convolution\n",
    "    :param pool_ksize: kernal size 2-D Tuple for pool\n",
    "    :param pool_strides: Stride 2-D Tuple for pool\n",
    "    : return: A tensor that represents convolution and max pooling of x_tensor\n",
    "    \"\"\" \n",
    "    TX = (conv_ksize[0], conv_ksize[1], int(x_tensor.shape[3]), conv_num_outputs)\n",
    "    \n",
    "    #low standard deviation to keep the gradients high.  It's a bastard of a parameter.\n",
    "    tdata = tf.truncated_normal(TX, stddev=0.1, dtype=tf.float32)\n",
    "    \n",
    "    filters = tf.Variable(tdata, name=\"filters\")\n",
    "    \n",
    "    #use the conv2d to create convolutional transformation.\n",
    "    cvfn = tf.nn.conv2d(x_tensor, filters,\n",
    "                        (1, conv_strides[0], conv_strides[1], 1), \"SAME\",\n",
    "                       use_cudnn_on_gpu=False)\n",
    "   \n",
    "    biases = tf.Variable(tf.zeros((cvfn.shape[1],cvfn.shape[2],cvfn.shape[3]), dtype=tf.float32), name=\"biases\")\n",
    "\n",
    "    #add a bias\n",
    "    biasedcv = tf.add(cvfn, biases)\n",
    "    \n",
    "    #add a nl activation, let's use ReLU\n",
    "    nlxfrmcv = tf.nn.relu(biasedcv)\n",
    "    \n",
    "    #return nlxfrmcv\n",
    "    \n",
    "    #do pooling  The parameters here are not easy.  Don't put the \"num outputs\" in the pool parameter\n",
    "    #for depth.  Why the hell does TF even give you the option to pool over depth?  Who does that?\n",
    "    pooled = tf.nn.max_pool(nlxfrmcv, \n",
    "                            (1, pool_ksize[0], pool_ksize[1], 1),\n",
    "                            (1, pool_strides[0], pool_strides[1],1), \"SAME\")\n",
    "    \n",
    "    return pooled\n",
    "\n",
    "\n",
    "\"\"\"\n",
    "DON'T MODIFY ANYTHING IN THIS CELL THAT IS BELOW THIS LINE\n",
    "\"\"\"\n",
    "tests.test_con_pool(conv2d_maxpool)"
   ]
  },
  {
   "cell_type": "markdown",
   "metadata": {},
   "source": [
    "### Flatten Layer\n",
    "Implement the `flatten` function to change the dimension of `x_tensor` from a 4-D tensor to a 2-D tensor.  The output should be the shape (*Batch Size*, *Flattened Image Size*). Shortcut option: you can use classes from the [TensorFlow Layers](https://www.tensorflow.org/api_docs/python/tf/layers) or [TensorFlow Layers (contrib)](https://www.tensorflow.org/api_guides/python/contrib.layers) packages for this layer. For more of a challenge, only use other TensorFlow packages."
   ]
  },
  {
   "cell_type": "code",
   "execution_count": 132,
   "metadata": {
    "collapsed": false
   },
   "outputs": [
    {
     "name": "stdout",
     "output_type": "stream",
     "text": [
      "Tests Passed\n"
     ]
    }
   ],
   "source": [
    "def flatten(x_tensor):\n",
    "    \"\"\"\n",
    "    Flatten x_tensor to (Batch Size, Flattened Image Size)\n",
    "    : x_tensor: A tensor of size (Batch Size, ...), where ... are the image dimensions.\n",
    "    : return: A tensor of size (Batch Size, Flattened Image Size).\n",
    "    \"\"\"\n",
    "    f_tensor = tf.contrib.layers.flatten(x_tensor)\n",
    "    return f_tensor\n",
    "\n",
    "\n",
    "\"\"\"\n",
    "DON'T MODIFY ANYTHING IN THIS CELL THAT IS BELOW THIS LINE\n",
    "\"\"\"\n",
    "tests.test_flatten(flatten)"
   ]
  },
  {
   "cell_type": "markdown",
   "metadata": {},
   "source": [
    "### Fully-Connected Layer\n",
    "Implement the `fully_conn` function to apply a fully connected layer to `x_tensor` with the shape (*Batch Size*, *num_outputs*). Shortcut option: you can use classes from the [TensorFlow Layers](https://www.tensorflow.org/api_docs/python/tf/layers) or [TensorFlow Layers (contrib)](https://www.tensorflow.org/api_guides/python/contrib.layers) packages for this layer. For more of a challenge, only use other TensorFlow packages."
   ]
  },
  {
   "cell_type": "code",
   "execution_count": 133,
   "metadata": {
    "collapsed": false
   },
   "outputs": [
    {
     "name": "stdout",
     "output_type": "stream",
     "text": [
      "Tests Passed\n"
     ]
    }
   ],
   "source": [
    "def fully_conn(x_tensor, num_outputs):\n",
    "    \"\"\"\n",
    "    Apply a fully connected layer to x_tensor using weight and bias\n",
    "    : x_tensor: A 2-D tensor where the first dimension is batch size.\n",
    "    : num_outputs: The number of output that the new tensor should be.\n",
    "    : return: A 2-D tensor where the second dimension is num_outputs.\n",
    "    \"\"\"\n",
    "    fcl = tf.contrib.layers.fully_connected(x_tensor, num_outputs)\n",
    "    return fcl\n",
    "\n",
    "\n",
    "\"\"\"\n",
    "DON'T MODIFY ANYTHING IN THIS CELL THAT IS BELOW THIS LINE\n",
    "\"\"\"\n",
    "tests.test_fully_conn(fully_conn)"
   ]
  },
  {
   "cell_type": "markdown",
   "metadata": {},
   "source": [
    "### Output Layer\n",
    "Implement the `output` function to apply a fully connected layer to `x_tensor` with the shape (*Batch Size*, *num_outputs*). Shortcut option: you can use classes from the [TensorFlow Layers](https://www.tensorflow.org/api_docs/python/tf/layers) or [TensorFlow Layers (contrib)](https://www.tensorflow.org/api_guides/python/contrib.layers) packages for this layer. For more of a challenge, only use other TensorFlow packages.\n",
    "\n",
    "**Note:** Activation, softmax, or cross entropy should **not** be applied to this."
   ]
  },
  {
   "cell_type": "code",
   "execution_count": 134,
   "metadata": {
    "collapsed": false
   },
   "outputs": [
    {
     "name": "stdout",
     "output_type": "stream",
     "text": [
      "Tests Passed\n"
     ]
    }
   ],
   "source": [
    "def output(x_tensor, num_outputs):\n",
    "    \"\"\"\n",
    "    Apply a output layer to x_tensor using weight and bias\n",
    "    : x_tensor: A 2-D tensor where the first dimension is batch size.\n",
    "    : num_outputs: The number of output that the new tensor should be.\n",
    "    : return: A 2-D tensor where the second dimension is num_outputs.\n",
    "    \"\"\"\n",
    "    fcl = tf.contrib.layers.fully_connected(x_tensor, num_outputs)\n",
    "    return fcl\n",
    "\n",
    "\n",
    "\"\"\"\n",
    "DON'T MODIFY ANYTHING IN THIS CELL THAT IS BELOW THIS LINE\n",
    "\"\"\"\n",
    "tests.test_output(output)"
   ]
  },
  {
   "cell_type": "markdown",
   "metadata": {},
   "source": [
    "### Create Convolutional Model\n",
    "Implement the function `conv_net` to create a convolutional neural network model. The function takes in a batch of images, `x`, and outputs logits.  Use the layers you created above to create this model:\n",
    "\n",
    "* Apply 1, 2, or 3 Convolution and Max Pool layers\n",
    "* Apply a Flatten Layer\n",
    "* Apply 1, 2, or 3 Fully Connected Layers\n",
    "* Apply an Output Layer\n",
    "* Return the output\n",
    "* Apply [TensorFlow's Dropout](https://www.tensorflow.org/api_docs/python/tf/nn/dropout) to one or more layers in the model using `keep_prob`. "
   ]
  },
  {
   "cell_type": "code",
   "execution_count": 135,
   "metadata": {
    "collapsed": false
   },
   "outputs": [
    {
     "name": "stdout",
     "output_type": "stream",
     "text": [
      "Neural Network Built!\n"
     ]
    }
   ],
   "source": [
    "def conv_net(x, keep_prob):\n",
    "    \"\"\"\n",
    "    Create a convolutional neural network model\n",
    "    : x: Placeholder tensor that holds image data.\n",
    "    : keep_prob: Placeholder tensor that hold dropout keep probability.\n",
    "    : return: Tensor that represents logits\n",
    "    \"\"\"\n",
    "    # Very simple 3x3 Convolutions with minimal \n",
    "    \n",
    "    conv_layer_1 = conv2d_maxpool(x, 20, (3, 3), (1,1), (1,1), (1,1))\n",
    "    conv_layer_2 = conv2d_maxpool(conv_layer_1, 40, (3, 3), (1,1), (2,2), (2,2))\n",
    "    conv_layer_3 = conv2d_maxpool(conv_layer_2, 80, (3, 3), (1,1), (2,2), (2,2))\n",
    "\n",
    "    # flatten 2d convolutional results into a simple structured result.\n",
    "    flat_conv = flatten(conv_layer_3)\n",
    "\n",
    "    # Apply 2 Fully Connected Layers to reduce the data.\n",
    "    \n",
    "    fcl_res_1 = fully_conn(flat_conv, 100)\n",
    "    dfcl_res_1 = tf.nn.dropout(fcl_res_1, keep_prob)\n",
    "    fcl_res_2 = fully_conn(fcl_res_1, 25)\n",
    "    dfcl_res_2 = tf.nn.dropout(fcl_res_2, keep_prob)\n",
    "    # Output layer needs to be reduced to 10.\n",
    "    \n",
    "    preliminary_output = output(dfcl_res_2, 10)\n",
    "    \n",
    "    #scaled_output = tf.nn.softmax(preliminary_output)\n",
    "    \n",
    "    # TODO: return output\n",
    "    return preliminary_output\n",
    "\n",
    "\n",
    "\"\"\"\n",
    "DON'T MODIFY ANYTHING IN THIS CELL THAT IS BELOW THIS LINE\n",
    "\"\"\"\n",
    "\n",
    "##############################\n",
    "## Build the Neural Network ##\n",
    "##############################\n",
    "\n",
    "# Remove previous weights, bias, inputs, etc..\n",
    "tf.reset_default_graph()\n",
    "\n",
    "# Inputs\n",
    "x = neural_net_image_input((32, 32, 3))\n",
    "y = neural_net_label_input(10)\n",
    "keep_prob = neural_net_keep_prob_input()\n",
    "\n",
    "# Model\n",
    "logits = conv_net(x, keep_prob)\n",
    "\n",
    "# Name logits Tensor, so that is can be loaded from disk after training\n",
    "logits = tf.identity(logits, name='logits')\n",
    "\n",
    "# Loss and Optimizer\n",
    "cost = tf.reduce_mean(tf.nn.softmax_cross_entropy_with_logits(logits=logits, labels=y))\n",
    "optimizer = tf.train.AdamOptimizer().minimize(cost)\n",
    "\n",
    "# Accuracy\n",
    "correct_pred = tf.equal(tf.argmax(logits, 1), tf.argmax(y, 1))\n",
    "accuracy = tf.reduce_mean(tf.cast(correct_pred, tf.float32), name='accuracy')\n",
    "\n",
    "tests.test_conv_net(conv_net)"
   ]
  },
  {
   "cell_type": "markdown",
   "metadata": {},
   "source": [
    "## Train the Neural Network\n",
    "### Single Optimization\n",
    "Implement the function `train_neural_network` to do a single optimization.  The optimization should use `optimizer` to optimize in `session` with a `feed_dict` of the following:\n",
    "* `x` for image input\n",
    "* `y` for labels\n",
    "* `keep_prob` for keep probability for dropout\n",
    "\n",
    "This function will be called for each batch, so `tf.global_variables_initializer()` has already been called.\n",
    "\n",
    "Note: Nothing needs to be returned. This function is only optimizing the neural network."
   ]
  },
  {
   "cell_type": "code",
   "execution_count": 127,
   "metadata": {
    "collapsed": false
   },
   "outputs": [
    {
     "name": "stdout",
     "output_type": "stream",
     "text": [
      "Tests Passed\n"
     ]
    }
   ],
   "source": [
    "def train_neural_network(session, optimizer, keep_probability, feature_batch, label_batch):\n",
    "    \"\"\"\n",
    "    Optimize the session on a batch of images and labels\n",
    "    : session: Current TensorFlow session\n",
    "    : optimizer: TensorFlow optimizer function\n",
    "    : keep_probability: keep probability\n",
    "    : feature_batch: Batch of Numpy image data\n",
    "    : label_batch: Batch of Numpy label data\n",
    "    \"\"\"\n",
    "    session.run(optimizer, feed_dict={x:feature_batch, y:label_batch, keep_prob:keep_probability})\n",
    "\n",
    "\"\"\"\n",
    "DON'T MODIFY ANYTHING IN THIS CELL THAT IS BELOW THIS LINE\n",
    "\"\"\"\n",
    "tests.test_train_nn(train_neural_network)"
   ]
  },
  {
   "cell_type": "markdown",
   "metadata": {},
   "source": [
    "### Show Stats\n",
    "Implement the function `print_stats` to print loss and validation accuracy.  Use the global variables `valid_features` and `valid_labels` to calculate validation accuracy.  Use a keep probability of `1.0` to calculate the loss and validation accuracy."
   ]
  },
  {
   "cell_type": "code",
   "execution_count": 128,
   "metadata": {
    "collapsed": false
   },
   "outputs": [],
   "source": [
    "def print_stats(session, feature_batch, label_batch, cost, accuracy):\n",
    "    \"\"\"\n",
    "    Print information about loss and validation accuracy\n",
    "    : session: Current TensorFlow session\n",
    "    : feature_batch: Batch of Numpy image data\n",
    "    : label_batch: Batch of Numpy label data\n",
    "    : cost: TensorFlow cost function\n",
    "    : accuracy: TensorFlow accuracy function\n",
    "    \"\"\"\n",
    "    # TODO: Implement Function\n",
    "    c, a = session.run([cost, accuracy], feed_dict={x:feature_batch, y:label_batch, keep_prob:1.0})\n",
    "    \n",
    "    print(\"cost: {} acc: {}\".format(c, a))"
   ]
  },
  {
   "cell_type": "markdown",
   "metadata": {},
   "source": [
    "### Hyperparameters\n",
    "Tune the following parameters:\n",
    "* Set `epochs` to the number of iterations until the network stops learning or start overfitting\n",
    "* Set `batch_size` to the highest number that your machine has memory for.  Most people set them to common sizes of memory:\n",
    " * 64\n",
    " * 128\n",
    " * 256\n",
    " * ...\n",
    "* Set `keep_probability` to the probability of keeping a node using dropout"
   ]
  },
  {
   "cell_type": "code",
   "execution_count": 152,
   "metadata": {
    "collapsed": true
   },
   "outputs": [],
   "source": [
    "# TODO: Tune Parameters\n",
    "epochs = 30  #only do 30 epochs because more creates divergence in the validation set scores\n",
    "batch_size = 512\n",
    "keep_probability = 0.5"
   ]
  },
  {
   "cell_type": "markdown",
   "metadata": {},
   "source": [
    "### Train on a Single CIFAR-10 Batch\n",
    "Instead of training the neural network on all the CIFAR-10 batches of data, let's use a single batch. This should save time while you iterate on the model to get a better accuracy.  Once the final validation accuracy is 50% or greater, run the model on all the data in the next section."
   ]
  },
  {
   "cell_type": "code",
   "execution_count": 153,
   "metadata": {
    "collapsed": false
   },
   "outputs": [
    {
     "name": "stdout",
     "output_type": "stream",
     "text": [
      "Checking the Training on a Single Batch...\n",
      "Epoch  1, CIFAR-10 Batch 1:  cost: 2.2095324993133545 acc: 0.26013514399528503\n",
      "Epoch  2, CIFAR-10 Batch 1:  cost: 2.150533676147461 acc: 0.2668918967247009\n",
      "Epoch  3, CIFAR-10 Batch 1:  cost: 2.046523332595825 acc: 0.3445945978164673\n",
      "Epoch  4, CIFAR-10 Batch 1:  cost: 1.9740163087844849 acc: 0.3513513505458832\n",
      "Epoch  5, CIFAR-10 Batch 1:  cost: 1.8943984508514404 acc: 0.41554054617881775\n",
      "Epoch  6, CIFAR-10 Batch 1:  cost: 1.8445333242416382 acc: 0.45270270109176636\n",
      "Epoch  7, CIFAR-10 Batch 1:  cost: 1.7262446880340576 acc: 0.4628378450870514\n",
      "Epoch  8, CIFAR-10 Batch 1:  cost: 1.6498706340789795 acc: 0.4763513505458832\n",
      "Epoch  9, CIFAR-10 Batch 1:  cost: 1.562978982925415 acc: 0.5202702879905701\n",
      "Epoch 10, CIFAR-10 Batch 1:  cost: 1.4933865070343018 acc: 0.5439189076423645\n",
      "Epoch 11, CIFAR-10 Batch 1:  cost: 1.4018651247024536 acc: 0.5540540814399719\n",
      "Epoch 12, CIFAR-10 Batch 1:  cost: 1.3245315551757812 acc: 0.6148648858070374\n",
      "Epoch 13, CIFAR-10 Batch 1:  cost: 1.2262760400772095 acc: 0.6216216087341309\n",
      "Epoch 14, CIFAR-10 Batch 1:  cost: 1.209090232849121 acc: 0.6385135054588318\n",
      "Epoch 15, CIFAR-10 Batch 1:  cost: 1.1222740411758423 acc: 0.662162184715271\n",
      "Epoch 16, CIFAR-10 Batch 1:  cost: 1.0533459186553955 acc: 0.7229729890823364\n",
      "Epoch 17, CIFAR-10 Batch 1:  cost: 0.9660218954086304 acc: 0.75\n",
      "Epoch 18, CIFAR-10 Batch 1:  cost: 0.9161117076873779 acc: 0.75\n",
      "Epoch 19, CIFAR-10 Batch 1:  cost: 0.8547313809394836 acc: 0.7736486196517944\n",
      "Epoch 20, CIFAR-10 Batch 1:  cost: 0.8327099680900574 acc: 0.7972972989082336\n",
      "Epoch 21, CIFAR-10 Batch 1:  cost: 0.813053548336029 acc: 0.7804054021835327\n",
      "Epoch 22, CIFAR-10 Batch 1:  cost: 0.7726290225982666 acc: 0.8074324131011963\n",
      "Epoch 23, CIFAR-10 Batch 1:  cost: 0.7104811072349548 acc: 0.8243243098258972\n",
      "Epoch 24, CIFAR-10 Batch 1:  cost: 0.6666507720947266 acc: 0.8243243098258972\n",
      "Epoch 25, CIFAR-10 Batch 1:  cost: 0.6767707467079163 acc: 0.8277027010917664\n",
      "Epoch 26, CIFAR-10 Batch 1:  cost: 0.637174129486084 acc: 0.8344594836235046\n",
      "Epoch 27, CIFAR-10 Batch 1:  cost: 0.5741622447967529 acc: 0.8513513803482056\n",
      "Epoch 28, CIFAR-10 Batch 1:  cost: 0.5622230768203735 acc: 0.8513513803482056\n",
      "Epoch 29, CIFAR-10 Batch 1:  cost: 0.5304730534553528 acc: 0.875\n",
      "Epoch 30, CIFAR-10 Batch 1:  cost: 0.5169504284858704 acc: 0.8817567825317383\n"
     ]
    }
   ],
   "source": [
    "\"\"\"\n",
    "DON'T MODIFY ANYTHING IN THIS CELL\n",
    "\"\"\"\n",
    "print('Checking the Training on a Single Batch...')\n",
    "with tf.Session() as sess:\n",
    "    # Initializing the variables\n",
    "    sess.run(tf.global_variables_initializer())\n",
    "    \n",
    "    # Training cycle\n",
    "    for epoch in range(epochs):\n",
    "        batch_i = 1\n",
    "        for batch_features, batch_labels in helper.load_preprocess_training_batch(batch_i, batch_size):\n",
    "            train_neural_network(sess, optimizer, keep_probability, batch_features, batch_labels)\n",
    "        print('Epoch {:>2}, CIFAR-10 Batch {}:  '.format(epoch + 1, batch_i), end='')\n",
    "        print_stats(sess, batch_features, batch_labels, cost, accuracy)"
   ]
  },
  {
   "cell_type": "markdown",
   "metadata": {},
   "source": [
    "### Fully Train the Model\n",
    "Now that you got a good accuracy with a single CIFAR-10 batch, try it with all five batches."
   ]
  },
  {
   "cell_type": "code",
   "execution_count": 154,
   "metadata": {
    "collapsed": false
   },
   "outputs": [
    {
     "name": "stdout",
     "output_type": "stream",
     "text": [
      "Training...\n",
      "Epoch  1, CIFAR-10 Batch 1:  cost: 2.2734227180480957 acc: 0.14864864945411682\n",
      "Epoch  1, CIFAR-10 Batch 2:  cost: 2.1829564571380615 acc: 0.22297297418117523\n",
      "Epoch  1, CIFAR-10 Batch 3:  cost: 2.1468844413757324 acc: 0.2128378450870514\n",
      "Epoch  1, CIFAR-10 Batch 4:  cost: 2.0891051292419434 acc: 0.2702702581882477\n",
      "Epoch  1, Validation Batch  :  cost: 2.1268721421559653 acc: 0.217691323823399\n",
      "Epoch  2, CIFAR-10 Batch 1:  cost: 2.1158928871154785 acc: 0.34121620655059814\n",
      "Epoch  2, CIFAR-10 Batch 2:  cost: 1.957697868347168 acc: 0.4054054021835327\n",
      "Epoch  2, CIFAR-10 Batch 3:  cost: 1.8973032236099243 acc: 0.42229729890823364\n",
      "Epoch  2, CIFAR-10 Batch 4:  cost: 1.816297173500061 acc: 0.42905405163764954\n",
      "Epoch  2, Validation Batch  :  cost: 1.8812750577926636 acc: 0.40143170456091565\n",
      "Epoch  3, CIFAR-10 Batch 1:  cost: 1.8445191383361816 acc: 0.43918919563293457\n",
      "Epoch  3, CIFAR-10 Batch 2:  cost: 1.7480627298355103 acc: 0.4695945978164673\n",
      "Epoch  3, CIFAR-10 Batch 3:  cost: 1.6150881052017212 acc: 0.5033783912658691\n",
      "Epoch  3, CIFAR-10 Batch 4:  cost: 1.529154658317566 acc: 0.537162184715271\n",
      "Epoch  3, Validation Batch  :  cost: 1.6398333112398784 acc: 0.4742339998483658\n",
      "Epoch  4, CIFAR-10 Batch 1:  cost: 1.6152552366256714 acc: 0.5439189076423645\n",
      "Epoch  4, CIFAR-10 Batch 2:  cost: 1.4998722076416016 acc: 0.5506756901741028\n",
      "Epoch  4, CIFAR-10 Batch 3:  cost: 1.373801827430725 acc: 0.5844594836235046\n",
      "Epoch  4, CIFAR-10 Batch 4:  cost: 1.3402736186981201 acc: 0.5810810923576355\n",
      "Epoch  4, Validation Batch  :  cost: 1.4501176940070257 acc: 0.5286692943837907\n",
      "Epoch  5, CIFAR-10 Batch 1:  cost: 1.3438968658447266 acc: 0.5945945978164673\n",
      "Epoch  5, CIFAR-10 Batch 2:  cost: 1.3099249601364136 acc: 0.5945945978164673\n",
      "Epoch  5, CIFAR-10 Batch 3:  cost: 1.197567343711853 acc: 0.6216216087341309\n",
      "Epoch  5, CIFAR-10 Batch 4:  cost: 1.1949005126953125 acc: 0.6148648858070374\n",
      "Epoch  5, Validation Batch  :  cost: 1.3228708042038813 acc: 0.5651598870754242\n",
      "Epoch  6, CIFAR-10 Batch 1:  cost: 1.2608195543289185 acc: 0.6148648858070374\n",
      "Epoch  6, CIFAR-10 Batch 2:  cost: 1.1381460428237915 acc: 0.6418918967247009\n",
      "Epoch  6, CIFAR-10 Batch 3:  cost: 1.1097484827041626 acc: 0.6385135054588318\n",
      "Epoch  6, CIFAR-10 Batch 4:  cost: 1.114516019821167 acc: 0.6486486196517944\n",
      "Epoch  6, Validation Batch  :  cost: 1.2680429021517436 acc: 0.5758844779597388\n",
      "Epoch  7, CIFAR-10 Batch 1:  cost: 1.1726558208465576 acc: 0.6452702879905701\n",
      "Epoch  7, CIFAR-10 Batch 2:  cost: 1.169023871421814 acc: 0.662162184715271\n",
      "Epoch  7, CIFAR-10 Batch 3:  cost: 1.035021424293518 acc: 0.6756756901741028\n",
      "Epoch  7, CIFAR-10 Batch 4:  cost: 1.0662986040115356 acc: 0.6418918967247009\n",
      "Epoch  7, Validation Batch  :  cost: 1.2324049207899306 acc: 0.5791866083939871\n",
      "Epoch  8, CIFAR-10 Batch 1:  cost: 1.104076862335205 acc: 0.6486486196517944\n",
      "Epoch  8, CIFAR-10 Batch 2:  cost: 1.0346789360046387 acc: 0.6824324131011963\n",
      "Epoch  8, CIFAR-10 Batch 3:  cost: 0.9737175703048706 acc: 0.6925675868988037\n",
      "Epoch  8, CIFAR-10 Batch 4:  cost: 0.964074432849884 acc: 0.6959459185600281\n",
      "Epoch  8, Validation Batch  :  cost: 1.1685136291715834 acc: 0.5984245969189538\n",
      "Epoch  9, CIFAR-10 Batch 1:  cost: 1.0422357320785522 acc: 0.6858108043670654\n",
      "Epoch  9, CIFAR-10 Batch 2:  cost: 0.9745392799377441 acc: 0.7060810923576355\n",
      "Epoch  9, CIFAR-10 Batch 3:  cost: 0.9195066094398499 acc: 0.6824324131011963\n",
      "Epoch  9, CIFAR-10 Batch 4:  cost: 0.924414336681366 acc: 0.712837815284729\n",
      "Epoch  9, Validation Batch  :  cost: 1.1424861285421584 acc: 0.6121463245815701\n",
      "Epoch 10, CIFAR-10 Batch 1:  cost: 0.9610010385513306 acc: 0.7060810923576355\n",
      "Epoch 10, CIFAR-10 Batch 2:  cost: 0.9291810989379883 acc: 0.712837815284729\n",
      "Epoch 10, CIFAR-10 Batch 3:  cost: 0.8539727926254272 acc: 0.7432432174682617\n",
      "Epoch 10, CIFAR-10 Batch 4:  cost: 0.855002760887146 acc: 0.7331081032752991\n",
      "Epoch 10, Validation Batch  :  cost: 1.1089437405268352 acc: 0.6253783073690202\n",
      "Epoch 11, CIFAR-10 Batch 1:  cost: 0.9008285999298096 acc: 0.7297297120094299\n",
      "Epoch 11, CIFAR-10 Batch 2:  cost: 0.8772334456443787 acc: 0.7162162065505981\n",
      "Epoch 11, CIFAR-10 Batch 3:  cost: 0.8217930197715759 acc: 0.7466216087341309\n",
      "Epoch 11, CIFAR-10 Batch 4:  cost: 0.8215366005897522 acc: 0.7297297120094299\n",
      "Epoch 11, Validation Batch  :  cost: 1.1026187936464946 acc: 0.6248738964398702\n",
      "Epoch 12, CIFAR-10 Batch 1:  cost: 0.8301695585250854 acc: 0.75\n",
      "Epoch 12, CIFAR-10 Batch 2:  cost: 0.8160355687141418 acc: 0.7364864945411682\n",
      "Epoch 12, CIFAR-10 Batch 3:  cost: 0.7803495526313782 acc: 0.7770270109176636\n",
      "Epoch 12, CIFAR-10 Batch 4:  cost: 0.7649917602539062 acc: 0.7567567825317383\n",
      "Epoch 12, Validation Batch  :  cost: 1.0871207813421886 acc: 0.6238386829694113\n",
      "Epoch 13, CIFAR-10 Batch 1:  cost: 0.815324604511261 acc: 0.7533783912658691\n",
      "Epoch 13, CIFAR-10 Batch 2:  cost: 0.7883193492889404 acc: 0.7398648858070374\n",
      "Epoch 13, CIFAR-10 Batch 3:  cost: 0.7898779511451721 acc: 0.7364864945411682\n",
      "Epoch 13, CIFAR-10 Batch 4:  cost: 0.7692548632621765 acc: 0.7567567825317383\n",
      "Epoch 13, Validation Batch  :  cost: 1.08686629931132 acc: 0.6257038282023536\n",
      "Epoch 14, CIFAR-10 Batch 1:  cost: 0.7596896886825562 acc: 0.7398648858070374\n",
      "Epoch 14, CIFAR-10 Batch 2:  cost: 0.7195630073547363 acc: 0.7466216087341309\n",
      "Epoch 14, CIFAR-10 Batch 3:  cost: 0.723293125629425 acc: 0.7736486196517944\n",
      "Epoch 14, CIFAR-10 Batch 4:  cost: 0.7486833930015564 acc: 0.7804054021835327\n",
      "Epoch 14, Validation Batch  :  cost: 1.0823648108376398 acc: 0.6289179788695441\n",
      "Epoch 15, CIFAR-10 Batch 1:  cost: 0.7219620943069458 acc: 0.7668918967247009\n",
      "Epoch 15, CIFAR-10 Batch 2:  cost: 0.7053256034851074 acc: 0.7533783912658691\n",
      "Epoch 15, CIFAR-10 Batch 3:  cost: 0.6785137057304382 acc: 0.787162184715271\n",
      "Epoch 15, CIFAR-10 Batch 4:  cost: 0.67498379945755 acc: 0.7939189076423645\n",
      "Epoch 15, Validation Batch  :  cost: 1.0573910706573062 acc: 0.6376601225799985\n",
      "Epoch 16, CIFAR-10 Batch 1:  cost: 0.6650056838989258 acc: 0.7939189076423645\n",
      "Epoch 16, CIFAR-10 Batch 2:  cost: 0.6296415328979492 acc: 0.8006756901741028\n",
      "Epoch 16, CIFAR-10 Batch 3:  cost: 0.6273531913757324 acc: 0.8141891956329346\n",
      "Epoch 16, CIFAR-10 Batch 4:  cost: 0.6432288885116577 acc: 0.8209459185600281\n",
      "Epoch 16, Validation Batch  :  cost: 1.0267242756154802 acc: 0.6508774393134646\n",
      "Epoch 17, CIFAR-10 Batch 1:  cost: 0.6592691540718079 acc: 0.7804054021835327\n",
      "Epoch 17, CIFAR-10 Batch 2:  cost: 0.6550400853157043 acc: 0.8074324131011963\n",
      "Epoch 17, CIFAR-10 Batch 3:  cost: 0.6163090467453003 acc: 0.8175675868988037\n",
      "Epoch 17, CIFAR-10 Batch 4:  cost: 0.5806775093078613 acc: 0.837837815284729\n",
      "Epoch 17, Validation Batch  :  cost: 1.0310196081797283 acc: 0.648915516005622\n",
      "Epoch 18, CIFAR-10 Batch 1:  cost: 0.623295783996582 acc: 0.8108108043670654\n",
      "Epoch 18, CIFAR-10 Batch 2:  cost: 0.5760184526443481 acc: 0.837837815284729\n",
      "Epoch 18, CIFAR-10 Batch 3:  cost: 0.5620255470275879 acc: 0.8175675868988037\n",
      "Epoch 18, CIFAR-10 Batch 4:  cost: 0.5232564806938171 acc: 0.837837815284729\n",
      "Epoch 18, Validation Batch  :  cost: 1.0201087759600744 acc: 0.6523584127426147\n",
      "Epoch 19, CIFAR-10 Batch 1:  cost: 0.5820631384849548 acc: 0.8175675868988037\n",
      "Epoch 19, CIFAR-10 Batch 2:  cost: 0.5454169511795044 acc: 0.837837815284729\n",
      "Epoch 19, CIFAR-10 Batch 3:  cost: 0.5144948959350586 acc: 0.8344594836235046\n",
      "Epoch 19, CIFAR-10 Batch 4:  cost: 0.5057475566864014 acc: 0.837837815284729\n",
      "Epoch 19, Validation Batch  :  cost: 1.0247492889563243 acc: 0.6549332539240519\n",
      "Epoch 20, CIFAR-10 Batch 1:  cost: 0.5421850681304932 acc: 0.8310810923576355\n",
      "Epoch 20, CIFAR-10 Batch 2:  cost: 0.5132032036781311 acc: 0.8547297120094299\n",
      "Epoch 20, CIFAR-10 Batch 3:  cost: 0.4999208152294159 acc: 0.8716216087341309\n",
      "Epoch 20, CIFAR-10 Batch 4:  cost: 0.46383675932884216 acc: 0.875\n",
      "Epoch 20, Validation Batch  :  cost: 1.032369871934255 acc: 0.6551209423277113\n",
      "Epoch 21, CIFAR-10 Batch 1:  cost: 0.5244295597076416 acc: 0.8344594836235046\n",
      "Epoch 21, CIFAR-10 Batch 2:  cost: 0.4814264476299286 acc: 0.8648648858070374\n",
      "Epoch 21, CIFAR-10 Batch 3:  cost: 0.47586461901664734 acc: 0.8783783912658691\n",
      "Epoch 21, CIFAR-10 Batch 4:  cost: 0.4341595768928528 acc: 0.8817567825317383\n",
      "Epoch 21, Validation Batch  :  cost: 1.0211659206284418 acc: 0.6575667460759481\n",
      "Epoch 22, CIFAR-10 Batch 1:  cost: 0.4914624094963074 acc: 0.8513513803482056\n",
      "Epoch 22, CIFAR-10 Batch 2:  cost: 0.45410242676734924 acc: 0.8648648858070374\n",
      "Epoch 22, CIFAR-10 Batch 3:  cost: 0.45251011848449707 acc: 0.8648648858070374\n",
      "Epoch 22, CIFAR-10 Batch 4:  cost: 0.405476450920105 acc: 0.8817567825317383\n",
      "Epoch 22, Validation Batch  :  cost: 1.0450343191623688 acc: 0.6543819208939871\n",
      "Epoch 23, CIFAR-10 Batch 1:  cost: 0.45288920402526855 acc: 0.8716216087341309\n",
      "Epoch 23, CIFAR-10 Batch 2:  cost: 0.43824541568756104 acc: 0.8817567825317383\n",
      "Epoch 23, CIFAR-10 Batch 3:  cost: 0.4441063404083252 acc: 0.8885135054588318\n",
      "Epoch 23, CIFAR-10 Batch 4:  cost: 0.3894543945789337 acc: 0.8885135054588318\n",
      "Epoch 23, Validation Batch  :  cost: 1.0283696287208133 acc: 0.6608923375606537\n",
      "Epoch 24, CIFAR-10 Batch 1:  cost: 0.43304720520973206 acc: 0.8783783912658691\n",
      "Epoch 24, CIFAR-10 Batch 2:  cost: 0.4109800159931183 acc: 0.8952702879905701\n",
      "Epoch 24, CIFAR-10 Batch 3:  cost: 0.3946455419063568 acc: 0.9020270109176636\n",
      "Epoch 24, CIFAR-10 Batch 4:  cost: 0.37698066234588623 acc: 0.8952702879905701\n",
      "Epoch 24, Validation Batch  :  cost: 1.0245284272564783 acc: 0.660654796494378\n",
      "Epoch 25, CIFAR-10 Batch 1:  cost: 0.43565085530281067 acc: 0.8716216087341309\n",
      "Epoch 25, CIFAR-10 Batch 2:  cost: 0.3680287301540375 acc: 0.9020270109176636\n",
      "Epoch 25, CIFAR-10 Batch 3:  cost: 0.350349098443985 acc: 0.9087837934494019\n",
      "Epoch 25, CIFAR-10 Batch 4:  cost: 0.3504572808742523 acc: 0.8986486196517944\n",
      "Epoch 25, Validation Batch  :  cost: 1.141687038871977 acc: 0.6403112080362108\n",
      "Epoch 26, CIFAR-10 Batch 1:  cost: 0.3893350064754486 acc: 0.8817567825317383\n",
      "Epoch 26, CIFAR-10 Batch 2:  cost: 0.3576892614364624 acc: 0.8918918967247009\n",
      "Epoch 26, CIFAR-10 Batch 3:  cost: 0.35575494170188904 acc: 0.9054054021835327\n",
      "Epoch 26, CIFAR-10 Batch 4:  cost: 0.3187348246574402 acc: 0.9222972989082336\n",
      "Epoch 26, Validation Batch  :  cost: 1.1213029589917924 acc: 0.6459447741508484\n",
      "Epoch 27, CIFAR-10 Batch 1:  cost: 0.3867136240005493 acc: 0.8918918967247009\n",
      "Epoch 27, CIFAR-10 Batch 2:  cost: 0.3264523446559906 acc: 0.9054054021835327\n",
      "Epoch 27, CIFAR-10 Batch 3:  cost: 0.35604754090309143 acc: 0.9054054021835327\n",
      "Epoch 27, CIFAR-10 Batch 4:  cost: 0.3147553503513336 acc: 0.912162184715271\n",
      "Epoch 27, Validation Batch  :  cost: 1.1350060966279771 acc: 0.6462116407023536\n",
      "Epoch 28, CIFAR-10 Batch 1:  cost: 0.36388346552848816 acc: 0.8986486196517944\n",
      "Epoch 28, CIFAR-10 Batch 2:  cost: 0.293097585439682 acc: 0.9054054021835327\n",
      "Epoch 28, CIFAR-10 Batch 3:  cost: 0.29708415269851685 acc: 0.9222972989082336\n",
      "Epoch 28, CIFAR-10 Batch 4:  cost: 0.3021450936794281 acc: 0.9189189076423645\n",
      "Epoch 28, Validation Batch  :  cost: 1.0935756597254012 acc: 0.6503642300764719\n",
      "Epoch 29, CIFAR-10 Batch 1:  cost: 0.3351651430130005 acc: 0.9020270109176636\n",
      "Epoch 29, CIFAR-10 Batch 2:  cost: 0.29080116748809814 acc: 0.9155405163764954\n",
      "Epoch 29, CIFAR-10 Batch 3:  cost: 0.26503247022628784 acc: 0.9222972989082336\n",
      "Epoch 29, CIFAR-10 Batch 4:  cost: 0.26664048433303833 acc: 0.9222972989082336\n",
      "Epoch 29, Validation Batch  :  cost: 1.15121638112598 acc: 0.6488070090611776\n",
      "Epoch 30, CIFAR-10 Batch 1:  cost: 0.30118638277053833 acc: 0.9222972989082336\n",
      "Epoch 30, CIFAR-10 Batch 2:  cost: 0.27735471725463867 acc: 0.9155405163764954\n",
      "Epoch 30, CIFAR-10 Batch 3:  cost: 0.27242007851600647 acc: 0.9222972989082336\n",
      "Epoch 30, CIFAR-10 Batch 4:  cost: 0.23329462110996246 acc: 0.9493243098258972\n",
      "Epoch 30, Validation Batch  :  cost: 1.1373776826593611 acc: 0.6580799553129408\n"
     ]
    }
   ],
   "source": [
    "def validation_round(session, epoch):\n",
    "    round_count = 0\n",
    "    cost_total = 0.0\n",
    "    acc_total = 0.0\n",
    "    for batch_features, batch_labels in helper.load_preprocess_training_batch(5, batch_size):\n",
    "        round_count += 1\n",
    "        c, a = session.run([cost, accuracy], feed_dict={x:batch_features, y:batch_labels, keep_prob:1.0})\n",
    "        cost_total += c\n",
    "        acc_total += a\n",
    "    \n",
    "    cost_avg = cost_total / round_count\n",
    "    acc_avg = acc_total / round_count\n",
    "    print('Epoch {:>2}, Validation Batch :  cost: {} acc: {}'.format(epoch+1, cost_avg, acc_avg))\n",
    "        \n",
    "\"\"\"\n",
    "DON'T MODIFY ANYTHING IN THIS CELL\n",
    "\"\"\"\n",
    "save_model_path = './image_classification'\n",
    "\n",
    "print('Training...')\n",
    "with tf.Session() as sess:\n",
    "    # Initializing the variables\n",
    "    sess.run(tf.global_variables_initializer())\n",
    "    \n",
    "    # Training cycle\n",
    "    for epoch in range(epochs):\n",
    "        # Loop over batches 1:4 for training set; use batch 5 as an internal validation set.\n",
    "        n_batches = 4\n",
    "        for batch_i in range(1, n_batches + 1):\n",
    "            for batch_features, batch_labels in helper.load_preprocess_training_batch(batch_i, batch_size):\n",
    "                train_neural_network(sess, optimizer, keep_probability, batch_features, batch_labels)\n",
    "            print('Epoch {:>2}, CIFAR-10 Batch {}:  '.format(epoch + 1, batch_i), end='')\n",
    "            print_stats(sess, batch_features, batch_labels, cost, accuracy)\n",
    "        validation_round(sess, epoch)\n",
    "            \n",
    "    # Save Model\n",
    "    saver = tf.train.Saver()\n",
    "    save_path = saver.save(sess, save_model_path)"
   ]
  },
  {
   "cell_type": "markdown",
   "metadata": {},
   "source": [
    "# Checkpoint\n",
    "The model has been saved to disk.\n",
    "## Test Model\n",
    "Test your model against the test dataset.  This will be your final accuracy. You should have an accuracy greater than 50%. If you don't, keep tweaking the model architecture and parameters."
   ]
  },
  {
   "cell_type": "code",
   "execution_count": 151,
   "metadata": {
    "collapsed": false
   },
   "outputs": [
    {
     "name": "stdout",
     "output_type": "stream",
     "text": [
      "Testing Accuracy: 0.6816693484783173\n",
      "\n"
     ]
    },
    {
     "data": {
      "image/png": "[encoded data removed]",
      "text/plain": [
       "<matplotlib.figure.Figure at 0x7f5d7bc9a0f0>"
      ]
     },
     "metadata": {
      "image/png": {
       "height": 319,
       "width": 355
      }
     },
     "output_type": "display_data"
    }
   ],
   "source": [
    "\"\"\"\n",
    "DON'T MODIFY ANYTHING IN THIS CELL\n",
    "\"\"\"\n",
    "%matplotlib inline\n",
    "%config InlineBackend.figure_format = 'retina'\n",
    "\n",
    "import tensorflow as tf\n",
    "import pickle\n",
    "import helper\n",
    "import random\n",
    "\n",
    "# Set batch size if not already set\n",
    "try:\n",
    "    if batch_size:\n",
    "        pass\n",
    "except NameError:\n",
    "    batch_size = 64\n",
    "\n",
    "save_model_path = './image_classification'\n",
    "n_samples = 4\n",
    "top_n_predictions = 3\n",
    "\n",
    "def test_model():\n",
    "    \"\"\"\n",
    "    Test the saved model against the test dataset\n",
    "    \"\"\"\n",
    "\n",
    "    test_features, test_labels = pickle.load(open('preprocess_training.p', mode='rb'))\n",
    "    loaded_graph = tf.Graph()\n",
    "\n",
    "    with tf.Session(graph=loaded_graph) as sess:\n",
    "        # Load model\n",
    "        loader = tf.train.import_meta_graph(save_model_path + '.meta')\n",
    "        loader.restore(sess, save_model_path)\n",
    "\n",
    "        # Get Tensors from loaded model\n",
    "        loaded_x = loaded_graph.get_tensor_by_name('x:0')\n",
    "        loaded_y = loaded_graph.get_tensor_by_name('y:0')\n",
    "        loaded_keep_prob = loaded_graph.get_tensor_by_name('keep_prob:0')\n",
    "        loaded_logits = loaded_graph.get_tensor_by_name('logits:0')\n",
    "        loaded_acc = loaded_graph.get_tensor_by_name('accuracy:0')\n",
    "        \n",
    "        # Get accuracy in batches for memory limitations\n",
    "        test_batch_acc_total = 0\n",
    "        test_batch_count = 0\n",
    "        \n",
    "        for train_feature_batch, train_label_batch in helper.batch_features_labels(test_features, test_labels, batch_size):\n",
    "            test_batch_acc_total += sess.run(\n",
    "                loaded_acc,\n",
    "                feed_dict={loaded_x: train_feature_batch, loaded_y: train_label_batch, loaded_keep_prob: 1.0})\n",
    "            test_batch_count += 1\n",
    "\n",
    "        print('Testing Accuracy: {}\\n'.format(test_batch_acc_total/test_batch_count))\n",
    "\n",
    "        # Print Random Samples\n",
    "        random_test_features, random_test_labels = tuple(zip(*random.sample(list(zip(test_features, test_labels)), n_samples)))\n",
    "        random_test_predictions = sess.run(\n",
    "            tf.nn.top_k(tf.nn.softmax(loaded_logits), top_n_predictions),\n",
    "            feed_dict={loaded_x: random_test_features, loaded_y: random_test_labels, loaded_keep_prob: 1.0})\n",
    "        helper.display_image_predictions(random_test_features, random_test_labels, random_test_predictions)\n",
    "\n",
    "\n",
    "test_model()"
   ]
  },
  {
   "cell_type": "markdown",
   "metadata": {},
   "source": [
    "## Why 50-70% Accuracy?\n",
    "You might be wondering why you can't get an accuracy any higher. First things first, 50% isn't bad for a simple CNN.  Pure guessing would get you 10% accuracy. However, you might notice people are getting scores [well above 70%](http://rodrigob.github.io/are_we_there_yet/build/classification_datasets_results.html#43494641522d3130).  That's because we haven't taught you all there is to know about neural networks. We still need to cover a few more techniques.\n",
    "## Submitting This Project\n",
    "When submitting this project, make sure to run all the cells before saving the notebook.  Save the notebook file as \"dlnd_image_classification.ipynb\" and save it as a HTML file under \"File\" -> \"Download as\".  Include the \"helper.py\" and \"problem_unittests.py\" files in your submission."
   ]
  }
 ],
 "metadata": {
  "kernelspec": {
   "display_name": "Python 3",
   "language": "python",
   "name": "python3"
  },
  "language_info": {
   "codemirror_mode": {
    "name": "ipython",
    "version": 3
   },
   "file_extension": ".py",
   "mimetype": "text/x-python",
   "name": "python",
   "nbconvert_exporter": "python",
   "pygments_lexer": "ipython3",
   "version": "3.5.3"
  }
 },
 "nbformat": 4,
 "nbformat_minor": 0
}
